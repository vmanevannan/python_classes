{
 "cells": [
  {
   "cell_type": "code",
   "execution_count": 0,
   "metadata": {
    "application/vnd.databricks.v1+cell": {
     "cellMetadata": {
      "byteLimit": 2048000,
      "rowLimit": 10000
     },
     "inputWidgets": {},
     "nuid": "63477533-9995-4520-8b98-628f4de71ad1",
     "showTitle": false,
     "title": ""
    }
   },
   "outputs": [
    {
     "output_type": "display_data",
     "data": {
      "application/vnd.databricks.v1+bamboolib_hint": "{\"pd.DataFrames\": [], \"version\": \"0.0.1\"}",
      "text/plain": []
     },
     "metadata": {},
     "output_type": "display_data"
    }
   ],
   "source": [
    "# Read churn data into a Pandas dataframe\n",
    "import pandas as pd\n",
    "import numpy as np\n",
    "df = pd.read_csv('telco_churn.csv')"
   ]
  },
  {
   "cell_type": "code",
   "execution_count": 0,
   "metadata": {
    "application/vnd.databricks.v1+cell": {
     "cellMetadata": {
      "byteLimit": 2048000,
      "rowLimit": 10000
     },
     "inputWidgets": {},
     "nuid": "7dddefd1-31cf-4c5d-9a21-91534ecf4dcc",
     "showTitle": false,
     "title": ""
    }
   },
   "outputs": [],
   "source": [
    "# Define input X and output y \n",
    "\n",
    "df['gender'] = df['gender'].astype('category')\n",
    "df['gender_cat'] = df['gender'].cat.codes\n",
    "\n",
    "df['InternetService'] = df['InternetService'].astype('category')\n",
    "df['InternetService_cat'] = df['InternetService'].cat.codes\n",
    "\n",
    "df['OnlineSecurity'] = df['OnlineSecurity'].astype('category')\n",
    "df['OnlineSecurity_cat'] = df['OnlineSecurity'].cat.codes\n",
    "\n",
    "df['Churn'] = np.where(df['Churn']=='Yes', 1, 0)\n",
    "cols = ['MonthlyCharges', 'tenure', 'gender_cat', 'InternetService_cat', 'OnlineSecurity_cat']\n",
    "\n",
    "X = df[cols]\n",
    "y = df['Churn']\n",
    "     "
   ]
  },
  {
   "cell_type": "code",
   "execution_count": 0,
   "metadata": {
    "application/vnd.databricks.v1+cell": {
     "cellMetadata": {
      "byteLimit": 2048000,
      "rowLimit": 10000
     },
     "inputWidgets": {},
     "nuid": "112e2bce-326e-4bce-a114-91186e9821ad",
     "showTitle": false,
     "title": ""
    }
   },
   "outputs": [],
   "source": [
    "'''\n",
    "Define CustomClassifier that inherits from Scikit-learn's RandomForestClassifier   \n",
    "'''\n",
    "\n",
    "from sklearn.ensemble import RandomForestClassifier\n",
    "\n",
    "class CustomClassifier(RandomForestClassifier):\n",
    "   pass\n"
   ]
  },
  {
   "cell_type": "code",
   "execution_count": 0,
   "metadata": {
    "application/vnd.databricks.v1+cell": {
     "cellMetadata": {
      "byteLimit": 2048000,
      "rowLimit": 10000
     },
     "inputWidgets": {},
     "nuid": "695a2932-06a0-407b-b1ae-62ddacf50680",
     "showTitle": false,
     "title": ""
    }
   },
   "outputs": [],
   "source": [
    "# USE CASE: Extending the functionality of classes that are a part of an existing machine learning package: scikitlearn\n",
    "\n",
    "from sklearn.ensemble import RandomForestClassifier\n",
    "from sklearn.model_selection import train_test_split\n",
    "\n",
    "class CustomClassifier(RandomForestClassifier):\n",
    "    def __init__(self, test_size=0.2 , random_state=42, **kwargs):\n",
    "        super().__init__(**kwargs)\n",
    "        self.test_size = test_size\n",
    "        self.random_state = random_state\n",
    "        \n",
    "    def split_data(self):\n",
    "        self.X_train, self.X_test, self.y_train, self.y_test = train_test_split(X, y, test_size=self.test_size, random_state= self.random_state)\n",
    "        return (self.X_train, self.X_test, self.y_train, self.y_test)   "
   ]
  },
  {
   "cell_type": "code",
   "execution_count": 0,
   "metadata": {
    "application/vnd.databricks.v1+cell": {
     "cellMetadata": {
      "byteLimit": 2048000,
      "rowLimit": 10000
     },
     "inputWidgets": {},
     "nuid": "37b6fb50-cdf7-4621-9ceb-2869d224057e",
     "showTitle": false,
     "title": ""
    }
   },
   "outputs": [
    {
     "output_type": "stream",
     "name": "stdout",
     "output_type": "stream",
     "text": [
      "dict_keys(['base_estimator', 'n_estimators', 'estimator_params', 'bootstrap', 'oob_score', 'n_jobs', 'random_state', 'verbose', 'warm_start', 'class_weight', 'max_samples', 'criterion', 'max_depth', 'min_samples_split', 'min_samples_leaf', 'min_weight_fraction_leaf', 'max_features', 'max_leaf_nodes', 'min_impurity_decrease', 'ccp_alpha', 'test_size'])\ndict_keys(['base_estimator', 'n_estimators', 'estimator_params', 'bootstrap', 'oob_score', 'n_jobs', 'random_state', 'verbose', 'warm_start', 'class_weight', 'max_samples', 'criterion', 'max_depth', 'min_samples_split', 'min_samples_leaf', 'min_weight_fraction_leaf', 'max_features', 'max_leaf_nodes', 'min_impurity_decrease', 'ccp_alpha', 'test_size', 'X_train', 'X_test', 'y_train', 'y_test'])\n"
     ]
    }
   ],
   "source": [
    "# Create an instance and check for attributes created\n",
    "rf_model = CustomClassifier(0.4, 14)\n",
    "print(rf_model.__dict__.keys())\n",
    "\n",
    "rf_model.split_data()\n",
    "print(rf_model.__dict__.keys())"
   ]
  },
  {
   "cell_type": "code",
   "execution_count": 0,
   "metadata": {
    "application/vnd.databricks.v1+cell": {
     "cellMetadata": {
      "byteLimit": 2048000,
      "rowLimit": 10000
     },
     "inputWidgets": {},
     "nuid": "4dbdfc54-ad5f-4d15-9648-db076cf47ae7",
     "showTitle": false,
     "title": ""
    }
   },
   "outputs": [
    {
     "output_type": "stream",
     "name": "stdout",
     "output_type": "stream",
     "text": [
      "Out[7]: ['__abstractmethods__',\n '__annotations__',\n '__class__',\n '__delattr__',\n '__dict__',\n '__dir__',\n '__doc__',\n '__eq__',\n '__format__',\n '__ge__',\n '__getattribute__',\n '__getitem__',\n '__getstate__',\n '__gt__',\n '__hash__',\n '__init__',\n '__init_subclass__',\n '__iter__',\n '__le__',\n '__len__',\n '__lt__',\n '__module__',\n '__ne__',\n '__new__',\n '__reduce__',\n '__reduce_ex__',\n '__repr__',\n '__setattr__',\n '__setstate__',\n '__sizeof__',\n '__str__',\n '__subclasshook__',\n '__weakref__',\n '_abc_impl',\n '_check_feature_names',\n '_check_n_features',\n '_compute_oob_predictions',\n '_estimator_type',\n '_get_oob_predictions',\n '_get_param_names',\n '_get_tags',\n '_gorilla_active_patch',\n '_gorilla_active_patch_fit',\n '_gorilla_active_patch_predict',\n '_gorilla_active_patch_predict_log_proba',\n '_gorilla_active_patch_predict_proba',\n '_gorilla_active_patch_score',\n '_gorilla_original_fit',\n '_gorilla_original_predict',\n '_gorilla_original_predict_log_proba',\n '_gorilla_original_predict_proba',\n '_gorilla_original_score',\n '_make_estimator',\n '_ml_workloads_gorilla_original_fit',\n '_more_tags',\n '_repr_html_',\n '_repr_html_inner',\n '_repr_mimebundle_',\n '_required_parameters',\n '_set_oob_score_and_attributes',\n '_validate_X_predict',\n '_validate_data',\n '_validate_estimator',\n '_validate_y_class_weight',\n 'apply',\n 'decision_path',\n 'feature_importances_',\n 'fit',\n 'get_params',\n 'n_features_',\n 'predict',\n 'predict_log_proba',\n 'predict_proba',\n 'score',\n 'set_params',\n 'split_data']"
     ]
    }
   ],
   "source": [
    "# dir: returns all the properties and methods of a specified object\n",
    "dir(CustomClassifier)"
   ]
  },
  {
   "cell_type": "code",
   "execution_count": 0,
   "metadata": {
    "application/vnd.databricks.v1+cell": {
     "cellMetadata": {
      "byteLimit": 2048000,
      "rowLimit": 10000
     },
     "inputWidgets": {},
     "nuid": "4f1297ee-c300-4f11-b775-3b9e6c9c9088",
     "showTitle": false,
     "title": ""
    }
   },
   "outputs": [
    {
     "output_type": "stream",
     "name": "stdout",
     "output_type": "stream",
     "text": [
      "dict_keys(['__module__', '__init__', 'split_data', '__doc__', '__abstractmethods__', '_abc_impl'])\n"
     ]
    }
   ],
   "source": [
    "# Let's understand our child class by printing the attributes and methods of our child class\n",
    "attributes = CustomClassifier.__dict__.keys()\n",
    "print(attributes)"
   ]
  },
  {
   "cell_type": "code",
   "execution_count": 0,
   "metadata": {
    "application/vnd.databricks.v1+cell": {
     "cellMetadata": {
      "byteLimit": 2048000,
      "rowLimit": 10000
     },
     "inputWidgets": {},
     "nuid": "728be393-7d01-40b2-bbf5-9fb972eca60b",
     "showTitle": false,
     "title": ""
    }
   },
   "outputs": [
    {
     "output_type": "stream",
     "name": "stdout",
     "output_type": "stream",
     "text": [
      "Out[9]: CustomClassifier(random_state=14, test_size=0.4)"
     ]
    }
   ],
   "source": [
    "# Let's call a method of the parent class : RFClassifier:  fit\n",
    "rf_model.fit(rf_model.X_train, rf_model.y_train)"
   ]
  },
  {
   "cell_type": "code",
   "execution_count": 0,
   "metadata": {
    "application/vnd.databricks.v1+cell": {
     "cellMetadata": {
      "byteLimit": 2048000,
      "rowLimit": 10000
     },
     "inputWidgets": {},
     "nuid": "4e897a4c-d4b6-4e15-9626-c7e562a72671",
     "showTitle": false,
     "title": ""
    }
   },
   "outputs": [
    {
     "output_type": "stream",
     "name": "stdout",
     "output_type": "stream",
     "text": [
      "Feature Importances:  {'MonthlyCharges': 0.5078921486183098, 'tenure': 0.3459946963263228, 'gender_cat': 0.01885597407518725, 'InternetService_cat': 0.04410741966853665, 'OnlineSecurity_cat': 0.08314976131164357}\n"
     ]
    }
   ],
   "source": [
    "# We can also access random forest classifier class attributes in addition to methods!\n",
    "importances = dict(zip(rf_model.feature_names_in_, rf_model.feature_importances_))\n",
    "print(\"Feature Importances: \", importances)\n",
    "     "
   ]
  },
  {
   "cell_type": "code",
   "execution_count": 0,
   "metadata": {
    "application/vnd.databricks.v1+cell": {
     "cellMetadata": {
      "byteLimit": 2048000,
      "rowLimit": 10000
     },
     "inputWidgets": {},
     "nuid": "13abf068-1b45-473d-9506-88b2356dcca7",
     "showTitle": false,
     "title": ""
    }
   },
   "outputs": [],
   "source": [
    "# USE CASE 2: Extending a Custom Parent Class functionality with a child class.\n",
    "\n",
    "class Model(CustomClassifier):\n",
    "    \n",
    "    def __init__(self):\n",
    "        self.n_estimators = 10\n",
    "        self.max_depth = 10\n",
    "        super().__init__()\n",
    "        self.X_train, self.X_test, self.y_train, self.y_test = super().split_data()\n",
    "        self.model = super().fit( self.X_train, self.y_train)\n",
    "        self.y_pred = super().predict(self.X_test)\n",
    "\n",
    "     \n",
    "            "
   ]
  },
  {
   "cell_type": "code",
   "execution_count": 0,
   "metadata": {
    "application/vnd.databricks.v1+cell": {
     "cellMetadata": {
      "byteLimit": 2048000,
      "rowLimit": 10000
     },
     "inputWidgets": {},
     "nuid": "1b6e8ef0-facd-440e-98cf-bbd662490347",
     "showTitle": false,
     "title": ""
    }
   },
   "outputs": [
    {
     "output_type": "stream",
     "name": "stdout",
     "output_type": "stream",
     "text": [
      "dict_keys(['n_estimators', 'max_depth', 'base_estimator', 'estimator_params', 'bootstrap', 'oob_score', 'n_jobs', 'random_state', 'verbose', 'warm_start', 'class_weight', 'max_samples', 'criterion', 'min_samples_split', 'min_samples_leaf', 'min_weight_fraction_leaf', 'max_features', 'max_leaf_nodes', 'min_impurity_decrease', 'ccp_alpha', 'test_size', 'X_train', 'X_test', 'y_train', 'y_test', 'feature_names_in_', 'n_features_in_', 'n_outputs_', 'classes_', 'n_classes_', 'base_estimator_', 'estimators_', '_mlflow_run_id', 'model', 'y_pred'])\n"
     ]
    }
   ],
   "source": [
    "model_obj = Model()\n",
    "\n",
    "print(model_obj.__dict__.keys())"
   ]
  },
  {
   "cell_type": "code",
   "execution_count": 0,
   "metadata": {
    "application/vnd.databricks.v1+cell": {
     "cellMetadata": {
      "byteLimit": 2048000,
      "rowLimit": 10000
     },
     "inputWidgets": {},
     "nuid": "a893d1f4-58ad-4116-82c0-aa8717f71faa",
     "showTitle": false,
     "title": ""
    }
   },
   "outputs": [],
   "source": [
    "# This child class will inherit the method and attributes of our Model class\n",
    "from sklearn.metrics import confusion_matrix\n",
    "import seaborn as sns\n",
    "\n",
    "class ModelVisualization(Model):\n",
    "    def __init__(self):\n",
    "        super().__init__()\n",
    "\n",
    "    # the following method: generate_confusion_matrix is callable once .fit() and .predict() from Model class have been run    \n",
    "    def generate_confusion_matrix(self):\n",
    "        cm = confusion_matrix(self.y_test, self.y_pred)\n",
    "        cm = cm / cm.astype(np.float).sum(axis=1)\n",
    "        sns.heatmap(cm, annot=True, cmap='Blues')"
   ]
  },
  {
   "cell_type": "code",
   "execution_count": 0,
   "metadata": {
    "application/vnd.databricks.v1+cell": {
     "cellMetadata": {
      "byteLimit": 2048000,
      "rowLimit": 10000
     },
     "inputWidgets": {},
     "nuid": "c235658d-a2c9-44b9-b9a5-e9ad3ed9e7a3",
     "showTitle": false,
     "title": ""
    }
   },
   "outputs": [
    {
     "output_type": "stream",
     "name": "stdout",
     "output_type": "stream",
     "text": [
      "<command-1338408208901460>:12: DeprecationWarning: `np.float` is a deprecated alias for the builtin `float`. To silence this warning, use `float` by itself. Doing this will not modify any behavior and is safe. If you specifically wanted the numpy scalar type, use `np.float64` here.\nDeprecated in NumPy 1.20; for more details and guidance: https://numpy.org/devdocs/release/1.20.0-notes.html#deprecations\n  cm = cm / cm.astype(np.float).sum(axis=1)\n"
     ]
    },
    {
     "output_type": "display_data",
     "data": {
      "image/png": "[encoded data removed]"
     },
     "metadata": {
      "application/vnd.databricks.v1+output": {
       "addedWidgets": {},
       "arguments": {},
       "data": "data:image/png;base64,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\n",
       "datasetInfos": [],
       "metadata": {},
       "removedWidgets": [],
       "type": "image"
      }
     },
     "output_type": "display_data"
    }
   ],
   "source": [
    "results = ModelVisualization()\n",
    "\n",
    "results.generate_confusion_matrix()"
   ]
  },
  {
   "cell_type": "code",
   "execution_count": 0,
   "metadata": {
    "application/vnd.databricks.v1+cell": {
     "cellMetadata": {
      "byteLimit": 2048000,
      "rowLimit": 10000
     },
     "inputWidgets": {},
     "nuid": "901e83f4-72f7-45eb-bb0c-7ed688ca4ec3",
     "showTitle": false,
     "title": ""
    }
   },
   "outputs": [
    {
     "output_type": "stream",
     "name": "stdout",
     "output_type": "stream",
     "text": [
      "Out[16]: (__main__.ModelVisualization,\n __main__.Model,\n __main__.CustomClassifier,\n sklearn.ensemble._forest.RandomForestClassifier,\n sklearn.ensemble._forest.ForestClassifier,\n sklearn.base.ClassifierMixin,\n sklearn.ensemble._forest.BaseForest,\n sklearn.base.MultiOutputMixin,\n sklearn.ensemble._base.BaseEnsemble,\n sklearn.base.MetaEstimatorMixin,\n sklearn.base.BaseEstimator,\n object)"
     ]
    }
   ],
   "source": [
    "#checkout method resolution order\n",
    "ModelVisualization.__mro__"
   ]
  }
 ],
 "metadata": {
  "application/vnd.databricks.v1+notebook": {
   "dashboards": [],
   "language": "python",
   "notebookMetadata": {
    "pythonIndentUnit": 4
   },
   "notebookName": "RFClassifier_AssemblyLine",
   "widgets": {}
  }
 },
 "nbformat": 4,
 "nbformat_minor": 0
}
